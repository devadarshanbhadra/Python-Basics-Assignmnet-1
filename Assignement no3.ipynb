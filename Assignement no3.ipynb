{
 "cells": [
  {
   "cell_type": "markdown",
   "id": "8c96825c-be09-45d6-af2a-08e249de48c7",
   "metadata": {},
   "source": [
    "1. Why are functions advantageous to have in your programs?"
   ]
  },
  {
   "cell_type": "markdown",
   "id": "33476d43-bece-4ab6-b29c-2f32ca494acd",
   "metadata": {},
   "source": [
    "Anaswer. Functions reduce the need for duplicate code. This makes programs shorter, easier to read, and easier to update,Based on coding and math, the function is simple to read and comprehend and is straightforward to test."
   ]
  },
  {
   "cell_type": "markdown",
   "id": "f4c5b23b-445c-484b-b1d6-00ba234f9a2a",
   "metadata": {},
   "source": [
    "2. When does the code in a function run: when it&#39;s specified or when it&#39;s called?"
   ]
  },
  {
   "cell_type": "markdown",
   "id": "698ac30b-2822-43bc-b7c2-952840a6b575",
   "metadata": {},
   "source": [
    "Answer. Code in the function runs when the function is called"
   ]
  },
  {
   "cell_type": "markdown",
   "id": "b873252c-b3fd-4e4e-86cd-aba36c257aec",
   "metadata": {},
   "source": [
    "3. What statement creates a function?"
   ]
  },
  {
   "cell_type": "markdown",
   "id": "6e46644f-82d5-41b8-bc19-ae0b7baead89",
   "metadata": {},
   "source": [
    "Answer. The def statement defines (i.e To call a function, we specify the function name with the round brackets) a function. \"\"\""
   ]
  },
  {
   "cell_type": "code",
   "execution_count": null,
   "id": "a2c26075-e85f-4eb5-95dc-e47f071741c6",
   "metadata": {},
   "outputs": [],
   "source": [
    "def test1():\n",
    "    return \"sudh\"\n",
    "    test1() + \"kumar\"\n",
    "\n",
    "\n",
    "test1() + \"kumar\""
   ]
  },
  {
   "cell_type": "markdown",
   "id": "dfd045f2-c7dd-4269-b7d1-b2a86f4793d7",
   "metadata": {},
   "source": [
    "4.  What is the difference between a function and a function call?"
   ]
  },
  {
   "cell_type": "code",
   "execution_count": null,
   "id": "a3f6f6a2-55fe-4767-be54-41e4108c7a9e",
   "metadata": {},
   "outputs": [],
   "source": [
    "#def of func\n",
    "def my_func(): \n",
    "    pass \n",
    "my_func() #calling of function\n",
    "\"\"\"A function consists of the def statement and the code in its def clause.\n",
    "\n",
    "A function call is what moves the program execution into the function, and the function call evaluates to the function's return value.\"\"\""
   ]
  },
  {
   "cell_type": "markdown",
   "id": "34aff8ba-ddfc-43ef-9111-6ba192977b22",
   "metadata": {},
   "source": [
    "5. How many global scopes are there in a Python program? How many local scopes?"
   ]
  },
  {
   "cell_type": "markdown",
   "id": "e61ed783-f02f-4a7b-aa52-b01a9a467db3",
   "metadata": {},
   "source": [
    "There is one global scope, and a local scope is created whenever a function is called."
   ]
  },
  {
   "cell_type": "markdown",
   "id": "13d94e40-963f-4564-bd90-b43097f5a940",
   "metadata": {},
   "source": [
    "6. What happens to variables in a local scope when the function call returns?"
   ]
  },
  {
   "cell_type": "markdown",
   "id": "ff982e11-df87-492f-a5b9-0cf780c1684a",
   "metadata": {},
   "source": [
    "When a function returns, the local scope is destroyed, and all the variables in it are forgotten"
   ]
  },
  {
   "cell_type": "markdown",
   "id": "e3b42470-f823-42f6-a9a8-fad40f4dbed9",
   "metadata": {},
   "source": [
    "7. What is the concept of a return value? Is it possible to have a return value in an expression?"
   ]
  },
  {
   "cell_type": "markdown",
   "id": "b9cc7ad0-6784-46fb-afee-610de1826046",
   "metadata": {},
   "source": [
    "A return value is the value that a function call evaluates to. Like any value, a return value can be used as part of an expression."
   ]
  },
  {
   "cell_type": "markdown",
   "id": "cdd74e37-f376-41ca-af3b-b287857cd368",
   "metadata": {},
   "source": [
    "8. If a function does not have a return statement, what is the return value of a call to that function?"
   ]
  },
  {
   "cell_type": "markdown",
   "id": "de6b4a92-aa15-455f-99c9-cf4eefa5b88b",
   "metadata": {},
   "source": [
    "If the funtion does not have a return statement it will not return anything."
   ]
  },
  {
   "cell_type": "markdown",
   "id": "954bc94f-f0c4-4cf6-bb8d-9ad9051019f5",
   "metadata": {},
   "source": [
    "9. How do you make a function variable refer to the global variable?"
   ]
  },
  {
   "cell_type": "markdown",
   "id": "d8167c44-ea21-4c4b-acf3-882b53c37070",
   "metadata": {},
   "source": [
    "To make function variable as a global variable you can use the global keyword to declare which variables are global."
   ]
  },
  {
   "cell_type": "markdown",
   "id": "cb585fac-a52e-4a27-b1fb-5cbedba25c06",
   "metadata": {},
   "source": [
    "10.  What is the data type of None?"
   ]
  },
  {
   "cell_type": "code",
   "execution_count": null,
   "id": "e9195ded-86f4-460f-8a4d-5da0dca56507",
   "metadata": {},
   "outputs": [],
   "source": [
    "def test(a)\n",
    "    print(\"this is my first function\")\n",
    "test()"
   ]
  },
  {
   "cell_type": "code",
   "execution_count": null,
   "id": "61b02acb-0b51-4c36-b161-eb75d9ad76cc",
   "metadata": {},
   "outputs": [],
   "source": [
    "type(a)"
   ]
  },
  {
   "cell_type": "markdown",
   "id": "50762666-1c16-4a8c-81e4-fb3290f585b3",
   "metadata": {},
   "source": [
    " The data type of None is NoneType.'"
   ]
  },
  {
   "cell_type": "markdown",
   "id": "4a021be5-6209-4546-914e-2c28cc613bb7",
   "metadata": {},
   "source": [
    "11. What does the sentence import areallyourpetsnamederic do?"
   ]
  },
  {
   "cell_type": "code",
   "execution_count": null,
   "id": "05f1be1d-5d36-4518-9b7b-5500c755fb8d",
   "metadata": {},
   "outputs": [],
   "source": [
    "11. What does the sentence import areallyourpetsnamederic do?"
   ]
  },
  {
   "cell_type": "markdown",
   "id": "25137f47-4783-446a-b7c4-7d1c6a6d557d",
   "metadata": {},
   "source": [
    ".That import statement imports a module named areallyourpetsnamederic. (But a module of this name doesnt exists in Python)"
   ]
  },
  {
   "cell_type": "markdown",
   "id": "51c1b748-45ea-454b-9ae0-1cd7a48d05db",
   "metadata": {},
   "source": [
    "12. If you had a bacon() feature in a spam module, what would you call it after importing spam?"
   ]
  },
  {
   "cell_type": "markdown",
   "id": "8531908b-19bf-402f-b924-095b2550d2d9",
   "metadata": {},
   "source": [
    "\"\"\"#import spam\n",
    "#spam.bacon()\"\"\""
   ]
  },
  {
   "cell_type": "markdown",
   "id": "8919bd55-930d-41a5-be37-d5cc3eae5c73",
   "metadata": {},
   "source": [
    "13. What can you do to save a programme from crashing if it encounters an error?"
   ]
  },
  {
   "cell_type": "markdown",
   "id": "036a5f82-1dc7-406b-ad39-83160234c28f",
   "metadata": {},
   "source": [
    "We can use try except clause to save a program from crashing"
   ]
  },
  {
   "cell_type": "markdown",
   "id": "53be63f9-7a37-4b17-aad5-22001ef8ab22",
   "metadata": {},
   "source": [
    "14. What is the purpose of the try clause? What is the purpose of the except clause?"
   ]
  },
  {
   "cell_type": "code",
   "execution_count": null,
   "id": "3dbeb219-9a16-4c90-b48e-5cd76f32c577",
   "metadata": {},
   "outputs": [],
   "source": [
    "\"\"\"Ans. Try and Except clause is used to handle the errors within our code . The try block is used to check some code for errors i.e the code inside the try block will execute when there is no error in the program. Whereas the code inside the except block will execute whenever the program encounters some error in the try block.\"\"\"\n",
    "\n",
    "\"\"\"Eg. \n",
    "try:\n",
    "\n",
    "# Code <br>\n",
    "except:\n",
    "\n",
    "# Executed if error in the<br>\n",
    "# try block\"\"\""
   ]
  },
  {
   "cell_type": "code",
   "execution_count": null,
   "id": "776059d8-c9a0-448e-ad5e-3af8a49fe286",
   "metadata": {},
   "outputs": [],
   "source": [
    "Eg. \\ntry:\\n\\n# Code <br>\\nexcept:\\n\\n# Executed if error in the<br>\\n# try block"
   ]
  },
  {
   "cell_type": "code",
   "execution_count": null,
   "id": "dfe9294f-c0d0-4616-9d52-2546daabb31b",
   "metadata": {},
   "outputs": [],
   "source": []
  }
 ],
 "metadata": {
  "kernelspec": {
   "display_name": "Python 3 (ipykernel)",
   "language": "python",
   "name": "python3"
  },
  "language_info": {
   "codemirror_mode": {
    "name": "ipython",
    "version": 3
   },
   "file_extension": ".py",
   "mimetype": "text/x-python",
   "name": "python",
   "nbconvert_exporter": "python",
   "pygments_lexer": "ipython3",
   "version": "3.10.6"
  }
 },
 "nbformat": 4,
 "nbformat_minor": 5
}
