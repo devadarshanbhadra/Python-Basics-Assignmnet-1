{
 "cells": [
  {
   "cell_type": "markdown",
   "id": "4e3e0d07-c058-46b2-a890-ab90cdbd051d",
   "metadata": {},
   "source": [
    "1. What exactly is []?"
   ]
  },
  {
   "cell_type": "code",
   "execution_count": null,
   "id": "a578f7cb-a62d-425f-8ee8-ae23163eb912",
   "metadata": {},
   "outputs": [],
   "source": [
    "[] is a emoty list like "
   ]
  },
  {
   "cell_type": "markdown",
   "id": "d9e41327-cd65-4c61-a8d7-95159757494d",
   "metadata": {},
   "source": [
    "Index brackets [] represents \"list literals\" allowing you to declare a list and its contents in your program. Index brackets are also used to write expressions that evaluate to a single item within a list, or a single character in a string. [] this reprents a empty list."
   ]
  },
  {
   "cell_type": "markdown",
   "id": "f6e89e17-9ff2-4095-85c5-8c7976ebca67",
   "metadata": {},
   "source": [
    "2. In a list of values stored in a variable called spam, how would you assign the value 'hello' as the third value? (Assume [2, 4, 6, 8, 10] are in spam.)\n",
    "\n"
   ]
  },
  {
   "cell_type": "code",
   "execution_count": 6,
   "id": "ebc4f000-af49-4b11-b10c-17bc6acbe6d2",
   "metadata": {},
   "outputs": [],
   "source": [
    "A = [2, 4, 6, 8, 10]"
   ]
  },
  {
   "cell_type": "code",
   "execution_count": 8,
   "id": "3f620afb-ba23-479b-a5fd-17a4c2979f34",
   "metadata": {},
   "outputs": [],
   "source": [
    "A[2]= 'hello'"
   ]
  },
  {
   "cell_type": "code",
   "execution_count": 9,
   "id": "bbf66480-b984-43f7-bbe3-9e4d0e3a8b41",
   "metadata": {},
   "outputs": [
    {
     "data": {
      "text/plain": [
       "[2, 4, 'hello', 8, 10]"
      ]
     },
     "execution_count": 9,
     "metadata": {},
     "output_type": "execute_result"
    }
   ],
   "source": [
    "A"
   ]
  },
  {
   "cell_type": "markdown",
   "id": "dc5bfb19-a712-4fde-942b-92e38ef8e92a",
   "metadata": {},
   "source": [
    "Lets pretend the spam includes the list ['a','b','c','d'] for the next three queries.\n",
    "\n",
    "3. What is the value of spam[int(int(3*2) / 11)]?"
   ]
  },
  {
   "cell_type": "markdown",
   "id": "93214eb3-9d37-4bee-87b0-d35c6ee371a4",
   "metadata": {},
   "source": [
    "spam = ['a','b','c','d']\n",
    "\n",
    "spam[int(int('3'*2)/11)]    # '3' is string it concatenation with 2 and doubles the value"
   ]
  },
  {
   "cell_type": "markdown",
   "id": "a7c1197c-f434-4456-b26c-c38d1d63f3fb",
   "metadata": {},
   "source": [
    "4. What is the value of spam[-1]?"
   ]
  },
  {
   "cell_type": "code",
   "execution_count": 19,
   "id": "4574c843-1340-443f-b476-b7cb45b4eed2",
   "metadata": {},
   "outputs": [
    {
     "data": {
      "text/plain": [
       "'d'"
      ]
     },
     "execution_count": 19,
     "metadata": {},
     "output_type": "execute_result"
    }
   ],
   "source": [
    "spam[-1]    # -1 is a negative index and gives the value from last of list"
   ]
  },
  {
   "cell_type": "markdown",
   "id": "240d5259-2fbc-4351-bc73-3a77413a6198",
   "metadata": {},
   "source": [
    "5. What is the value of spam[:2]?"
   ]
  },
  {
   "cell_type": "code",
   "execution_count": 20,
   "id": "5b37dc0a-e1e1-4924-9a91-081987f8589c",
   "metadata": {},
   "outputs": [
    {
     "data": {
      "text/plain": [
       "['a', 'b']"
      ]
     },
     "execution_count": 20,
     "metadata": {},
     "output_type": "execute_result"
    }
   ],
   "source": [
    "spam[:2]     # [:2] represents starting ending of the list"
   ]
  },
  {
   "cell_type": "markdown",
   "id": "de2979f7-6bed-49cf-8497-d141041be792",
   "metadata": {},
   "source": [
    "Lets pretend bacon has the list [3.14,cat,'11','cat','True'] for the next three questions."
   ]
  },
  {
   "cell_type": "markdown",
   "id": "e16f5dca-e49e-4feb-b5da-c3f70ed43beb",
   "metadata": {},
   "source": [
    "6. What is the value of bacon.index('cat')?"
   ]
  },
  {
   "cell_type": "code",
   "execution_count": 24,
   "id": "61bd820c-62e6-41ae-9ad8-1394a23d67ab",
   "metadata": {},
   "outputs": [],
   "source": [
    "bacon = [3.14,'cat','11','cat','True']"
   ]
  },
  {
   "cell_type": "code",
   "execution_count": 28,
   "id": "4eb607ee-30b1-4d0b-814a-16650c77f956",
   "metadata": {},
   "outputs": [
    {
     "data": {
      "text/plain": [
       "1"
      ]
     },
     "execution_count": 28,
     "metadata": {},
     "output_type": "execute_result"
    }
   ],
   "source": [
    "bacon.index('cat')      # index numbers starts from o so in number-1 place cat is there"
   ]
  },
  {
   "cell_type": "markdown",
   "id": "e6277d23-0d1c-4fdb-ad5b-d3cd5821576a",
   "metadata": {},
   "source": [
    "7. How does bacon.append(99) change the look of the list value in bacon?"
   ]
  },
  {
   "cell_type": "code",
   "execution_count": 30,
   "id": "7048f4cc-e543-4113-a45c-eb4cb4aa07b0",
   "metadata": {},
   "outputs": [],
   "source": [
    "bacon.append(99)     # append add the item at last of the list"
   ]
  },
  {
   "cell_type": "code",
   "execution_count": 27,
   "id": "5e2f9001-3663-4f96-b3e3-6d51898a0dce",
   "metadata": {},
   "outputs": [
    {
     "data": {
      "text/plain": [
       "[3.14, 'cat', '11', 'cat', 'True', 99]"
      ]
     },
     "execution_count": 27,
     "metadata": {},
     "output_type": "execute_result"
    }
   ],
   "source": [
    "bacon"
   ]
  },
  {
   "cell_type": "markdown",
   "id": "d8447776-9ff8-47b4-9255-d35870f9a2b0",
   "metadata": {},
   "source": [
    "8. How does bacon.remove(&#39;cat&#39;) change the look of the list in bacon?"
   ]
  },
  {
   "cell_type": "code",
   "execution_count": 33,
   "id": "673064f2-1c1f-4114-95e1-865d84baae12",
   "metadata": {},
   "outputs": [],
   "source": [
    "bacon = [3.14, 'cat', 11, 'cat', True]\n",
    "bacon.remove('cat')"
   ]
  },
  {
   "cell_type": "code",
   "execution_count": 34,
   "id": "e4ec0470-0b61-497b-ae98-c100d5a6759c",
   "metadata": {},
   "outputs": [
    {
     "name": "stdout",
     "output_type": "stream",
     "text": [
      "[3.14, 11, 'cat', True]\n"
     ]
    }
   ],
   "source": [
    "print(bacon)"
   ]
  },
  {
   "cell_type": "markdown",
   "id": "e809fc90-05bb-44a1-80e4-86d5aabc049d",
   "metadata": {},
   "source": [
    "9. What are the list concatenation and list replication operators?"
   ]
  },
  {
   "cell_type": "markdown",
   "id": "15df6c18-85ed-4f48-889e-096b4ef28528",
   "metadata": {},
   "source": [
    "The operator for\n",
    "list concatenation is +, while the operator for \n",
    "replication is *.\n",
    "\n",
    "for example"
   ]
  },
  {
   "cell_type": "code",
   "execution_count": 36,
   "id": "340814b1-7745-440b-9b8c-40989d980aeb",
   "metadata": {},
   "outputs": [
    {
     "data": {
      "text/plain": [
       "[1, 2, 3, 4]"
      ]
     },
     "execution_count": 36,
     "metadata": {},
     "output_type": "execute_result"
    }
   ],
   "source": [
    "l1 = [1,2] \n",
    "l2=[3,4]\n",
    "l1 + l2    # list concatenation"
   ]
  },
  {
   "cell_type": "code",
   "execution_count": 38,
   "id": "7d693ba1-de74-4ec9-9b54-6defe2c4a117",
   "metadata": {},
   "outputs": [
    {
     "data": {
      "text/plain": [
       "[2, 5, 2, 5, 2, 5]"
      ]
     },
     "execution_count": 38,
     "metadata": {},
     "output_type": "execute_result"
    }
   ],
   "source": [
    "A = [2,5]\n",
    "A*3       # list replication"
   ]
  },
  {
   "cell_type": "markdown",
   "id": "88a5342d-94e1-4c02-913d-95e8b64d995c",
   "metadata": {},
   "source": [
    "10. What is difference between the list methods append() and insert()?"
   ]
  },
  {
   "cell_type": "markdown",
   "id": "0c056947-ad9f-4f52-985b-105895cb83b7",
   "metadata": {},
   "source": [
    "append - append adds a value at last of a list\n",
    "\n",
    "insert - using insert command value can be added by a given index value"
   ]
  },
  {
   "cell_type": "code",
   "execution_count": 40,
   "id": "8f15d475-233f-4a7e-a7d2-25f743cf782f",
   "metadata": {},
   "outputs": [],
   "source": [
    "bacon = [3.14,'cat','11','cat','True']"
   ]
  },
  {
   "cell_type": "code",
   "execution_count": 41,
   "id": "0089b6a1-d4a0-4053-bf9b-78760f5f1e41",
   "metadata": {},
   "outputs": [
    {
     "data": {
      "text/plain": [
       "[3.14, 'cat', '11', 'cat', 'True', 'bhadra']"
      ]
     },
     "execution_count": 41,
     "metadata": {},
     "output_type": "execute_result"
    }
   ],
   "source": [
    "bacon.append(\"bhadra\")\n",
    "bacon"
   ]
  },
  {
   "cell_type": "code",
   "execution_count": 42,
   "id": "f58742a7-2b08-427b-874a-93f8d9dcf615",
   "metadata": {},
   "outputs": [
    {
     "data": {
      "text/plain": [
       "['hello', 2, 4, 6, 8, 10]"
      ]
     },
     "execution_count": 42,
     "metadata": {},
     "output_type": "execute_result"
    }
   ],
   "source": [
    "list = [2,4,6,8,10]\n",
    "list.insert(0,\"hello\")\n",
    "list"
   ]
  },
  {
   "cell_type": "markdown",
   "id": "19ff200f-ff19-4b7e-b2e0-3c973174ba50",
   "metadata": {},
   "source": [
    "11. What are the two methods for removing items from a list?"
   ]
  },
  {
   "cell_type": "code",
   "execution_count": 43,
   "id": "b3275896-a50c-4c01-8272-6951a8f39b5e",
   "metadata": {},
   "outputs": [
    {
     "data": {
      "text/plain": [
       "[3.14, 11, 'cat', True]"
      ]
     },
     "execution_count": 43,
     "metadata": {},
     "output_type": "execute_result"
    }
   ],
   "source": [
    "#remove is used to remove items from a list\n",
    "bacon = [3.14, 'cat', 11, 'cat', True]\n",
    "bacon.remove('cat')\n",
    "bacon"
   ]
  },
  {
   "cell_type": "code",
   "execution_count": 44,
   "id": "e47dfa87-ca53-4464-91c4-b164f779e343",
   "metadata": {},
   "outputs": [
    {
     "name": "stdout",
     "output_type": "stream",
     "text": [
      "[3.14, 'cat', 11, 'cat']\n"
     ]
    }
   ],
   "source": [
    "#pop is used to remove last item of index as it is defaultl.\n",
    "bacon = [3.14, 'cat', 11, 'cat', True]\n",
    "bacon.pop()\n",
    "print(bacon)"
   ]
  },
  {
   "cell_type": "markdown",
   "id": "4ec80994-7b96-4bdb-be53-841fd15a2ecf",
   "metadata": {},
   "source": [
    "12. Describe how list values and string values are identical."
   ]
  },
  {
   "cell_type": "markdown",
   "id": "8bee5ed4-b5a2-4a91-ba08-3a0a162f6b30",
   "metadata": {},
   "source": [
    "1. Both lists and strings can be passed to len()\n",
    "2. Have indexes and slices\n",
    "3. Can be used in for loops\n",
    "4. Can be concatenated or replicated\n",
    "5. Can be used with the in and not in operators"
   ]
  },
  {
   "cell_type": "markdown",
   "id": "53be6174-db13-4d0a-acbd-dc0a8b97eb6f",
   "metadata": {},
   "source": [
    "13. Whats the difference between tuples and lists?"
   ]
  },
  {
   "cell_type": "markdown",
   "id": "8ca9a563-73b1-40ea-a665-8e2f2e5f8916",
   "metadata": {},
   "source": [
    "Lists : are mutable - they can have values added, removed, or changed. lists use the square brackets, [ and ]\n",
    "\n",
    "Tuples : are immutable; they cannot be changed at all. Tuples are written using parentheses"
   ]
  },
  {
   "cell_type": "markdown",
   "id": "3c34f4f9-c1c4-4f33-9497-ea78fd3d6264",
   "metadata": {},
   "source": [
    "14. How do you type a tuple value that only contains the integer 42?"
   ]
  },
  {
   "cell_type": "code",
   "execution_count": 45,
   "id": "a90e91ca-8436-4c14-940a-7d4ccd01263a",
   "metadata": {},
   "outputs": [
    {
     "data": {
      "text/plain": [
       "1996"
      ]
     },
     "execution_count": 45,
     "metadata": {},
     "output_type": "execute_result"
    }
   ],
   "source": [
    "tuple = (1996)\n",
    "tuple"
   ]
  },
  {
   "cell_type": "markdown",
   "id": "b6e7b39f-a9e8-4110-8805-42159d0aa9fb",
   "metadata": {},
   "source": [
    "15. How do you get a list values tuple form? How do you get a tuple values list form?"
   ]
  },
  {
   "cell_type": "code",
   "execution_count": 1,
   "id": "5b8f6577-4cf3-4926-bfae-89e804faf411",
   "metadata": {},
   "outputs": [
    {
     "name": "stdout",
     "output_type": "stream",
     "text": [
      "(1, 2, 3, 4)\n"
     ]
    }
   ],
   "source": [
    "A = [1,2,3,4]\n",
    "B = tuple(A)\n",
    "print(B)"
   ]
  },
  {
   "cell_type": "code",
   "execution_count": 2,
   "id": "416922fa-aa99-4d83-b71b-b94779caebbb",
   "metadata": {},
   "outputs": [
    {
     "name": "stdout",
     "output_type": "stream",
     "text": [
      "[3, 4]\n"
     ]
    }
   ],
   "source": [
    "t1 = (3,4)\n",
    "t = list(t1)\n",
    "print(t)"
   ]
  },
  {
   "cell_type": "markdown",
   "id": "a6516b4d-9b85-4489-a006-382fa5d1dc53",
   "metadata": {},
   "source": [
    "16. Variables that \"contain\" list values are not necessarily lists themselves. Instead, what do they\n",
    "contain?"
   ]
  },
  {
   "cell_type": "markdown",
   "id": "fd1b9e19-6167-4c78-8777-b5836b2cd790",
   "metadata": {},
   "source": [
    "They contain references to list values"
   ]
  },
  {
   "cell_type": "markdown",
   "id": "4b057d4f-a0bf-4603-8a89-879e0d50a086",
   "metadata": {},
   "source": [
    "17. How do you distinguish between copy.copy() and copy.deepcopy()?"
   ]
  },
  {
   "cell_type": "markdown",
   "id": "e189e578-ab62-4de9-a7b1-837acc726dd3",
   "metadata": {},
   "source": [
    "The copy.copy() function will do a shallow copy of a list,\n",
    "\n",
    "The copy.deepcopy() function will do a deep copy of a list. only copy.deepcopy() will duplicate any lists inside the list\n",
    "\n"
   ]
  },
  {
   "cell_type": "code",
   "execution_count": null,
   "id": "59fada8b-84e7-4d95-af78-d0d410d89852",
   "metadata": {},
   "outputs": [],
   "source": []
  }
 ],
 "metadata": {
  "kernelspec": {
   "display_name": "Python 3 (ipykernel)",
   "language": "python",
   "name": "python3"
  },
  "language_info": {
   "codemirror_mode": {
    "name": "ipython",
    "version": 3
   },
   "file_extension": ".py",
   "mimetype": "text/x-python",
   "name": "python",
   "nbconvert_exporter": "python",
   "pygments_lexer": "ipython3",
   "version": "3.10.6"
  }
 },
 "nbformat": 4,
 "nbformat_minor": 5
}
