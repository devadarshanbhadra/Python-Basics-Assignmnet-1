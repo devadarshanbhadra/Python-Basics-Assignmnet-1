{
 "cells": [
  {
   "cell_type": "markdown",
   "id": "a4d43fef-f40a-4bdc-8339-0f4a93d3891e",
   "metadata": {},
   "source": [
    "1. Add the current date to the text file today.txt as a string."
   ]
  },
  {
   "cell_type": "code",
   "execution_count": 1,
   "id": "da8f9c82-5c4f-49f0-88d9-7db58731e085",
   "metadata": {},
   "outputs": [
    {
     "name": "stdout",
     "output_type": "stream",
     "text": [
      "13-05-23\n"
     ]
    }
   ],
   "source": [
    "import datetime\n",
    "#code to add current date to the today.txt file\n",
    "file = open('today.txt','w')\n",
    "file.write(datetime.datetime.now().strftime(\"%d-%m-%y\"))\n",
    "file.close()\n",
    "# code to read current date from today.txt file\n",
    "file = open('today.txt','r')\n",
    "print(file.read())\n",
    "file.close()"
   ]
  },
  {
   "cell_type": "markdown",
   "id": "ff3bc2e3-7c96-4e82-b93d-1282aec74eda",
   "metadata": {},
   "source": [
    "2. Read the text file today.txt into the string today_string"
   ]
  },
  {
   "cell_type": "code",
   "execution_count": 2,
   "id": "b7616dd3-9d36-42b5-88e1-4fdde6872843",
   "metadata": {},
   "outputs": [
    {
     "name": "stdout",
     "output_type": "stream",
     "text": [
      "13-05-23\n"
     ]
    }
   ],
   "source": [
    "file = open('today.txt','r')\n",
    "today_string = file.read()\n",
    "print(today_string)"
   ]
  },
  {
   "cell_type": "markdown",
   "id": "033d06ff-29ed-4344-aaa1-83f0cf5cc008",
   "metadata": {},
   "source": [
    "3. Parse the date from today_string."
   ]
  },
  {
   "cell_type": "code",
   "execution_count": null,
   "id": "df6ae7fc-5f33-404f-adba-4c6e9f11d30a",
   "metadata": {},
   "outputs": [],
   "source": [
    "from datetime import datetime\n",
    "parsed_data = datetime.strptime(today_string, '%d-%m-%Y')\n",
    "print(parsed_data)"
   ]
  },
  {
   "cell_type": "markdown",
   "id": "be15610b-cb6b-4e3a-a9ad-a8008ec52ecb",
   "metadata": {},
   "source": [
    "###### 2021-09-22 00:00:00"
   ]
  },
  {
   "cell_type": "markdown",
   "id": "630a796d-7b87-4dc4-bf7a-0ca155c3c966",
   "metadata": {},
   "source": [
    "4. List the files in your current directory"
   ]
  },
  {
   "cell_type": "code",
   "execution_count": 5,
   "id": "b40a5367-dd2d-44bc-a605-02bbdb1e6a96",
   "metadata": {},
   "outputs": [
    {
     "name": "stdout",
     "output_type": "stream",
     "text": [
      "README.md\n",
      "text.csv\n",
      "test.txt\n",
      "sample-code.ipynb\n",
      "Assignment-21.ipynb\n",
      "Assignment-6.ipynb\n",
      "Assignment-13.ipynb\n",
      "Assignment-12.ipynb\n",
      "pic.jpg\n",
      "img.jpg\n",
      "Assignement no8.ipynb\n",
      "university_records.csv\n",
      "Assignment-20.ipynb\n",
      "Assignment-10.ipynb\n",
      "Assignment-16.ipynb\n",
      "Assignment-19.ipynb\n",
      "books.db\n",
      "Assignment-15.ipynb\n",
      "today.txt\n",
      "Assignment-17.ipynb\n",
      "Assignment-9.ipynb\n",
      "Assignment-14.ipynb\n",
      "Assignment-11.ipynb\n",
      "Assignment-7.ipynb\n",
      "Assignment-18.ipynb\n",
      "books.csv\n",
      "application_log.txt\n",
      "pic2.jpg\n",
      "packed-refs\n",
      "HEAD\n",
      "index\n",
      "config\n",
      "description\n",
      "HEAD\n",
      "main\n",
      "HEAD\n",
      "exclude\n",
      "pack-290036e657c294196be1b61a981e44da145e2135.pack\n",
      "pack-290036e657c294196be1b61a981e44da145e2135.idx\n",
      "pre-push.sample\n",
      "prepare-commit-msg.sample\n",
      "applypatch-msg.sample\n",
      "pre-applypatch.sample\n",
      "commit-msg.sample\n",
      "pre-rebase.sample\n",
      "pre-receive.sample\n",
      "update.sample\n",
      "fsmonitor-watchman.sample\n",
      "pre-merge-commit.sample\n",
      "pre-commit.sample\n",
      "push-to-checkout.sample\n",
      "post-update.sample\n",
      "main\n",
      "HEAD\n",
      "Assignment-14-checkpoint.ipynb\n",
      "Assignment-7-checkpoint.ipynb\n",
      "Assignment-9-checkpoint.ipynb\n",
      "Assignment-21-checkpoint.ipynb\n",
      "Assignment-10-checkpoint.ipynb\n",
      "Assignment-11-checkpoint.ipynb\n",
      "Assignment-13-checkpoint.ipynb\n",
      "Assignement no8-checkpoint.ipynb\n",
      "Assignment-6-checkpoint.ipynb\n",
      "Assignment-20-checkpoint.ipynb\n",
      "Assignment-15-checkpoint.ipynb\n",
      "Assignment-19-checkpoint.ipynb\n",
      "Assignment-16-checkpoint.ipynb\n",
      "Assignment-17-checkpoint.ipynb\n",
      "Assignment-12-checkpoint.ipynb\n",
      "Assignment-18-checkpoint.ipynb\n"
     ]
    }
   ],
   "source": [
    "import os\n",
    "for folders, subfolders, files in os.walk(os.getcwd()):\n",
    "    for file in files:\n",
    "        print(file)"
   ]
  },
  {
   "cell_type": "markdown",
   "id": "c0e20cbf-2ead-4109-a877-45270dfb9e98",
   "metadata": {},
   "source": [
    "5. Create a list of all of the files in your parent directory (minimum five files should be available)."
   ]
  },
  {
   "cell_type": "code",
   "execution_count": 6,
   "id": "658b0955-ebeb-45d8-9eb5-d9564a35e96e",
   "metadata": {},
   "outputs": [
    {
     "data": {
      "text/plain": [
       "['README.md',\n",
       " 'text.csv',\n",
       " 'test.txt',\n",
       " 'sample-code.ipynb',\n",
       " 'Assignment-21.ipynb',\n",
       " 'Assignment-6.ipynb',\n",
       " 'Assignment-13.ipynb',\n",
       " 'Assignment-12.ipynb',\n",
       " '.git',\n",
       " 'pic.jpg',\n",
       " 'img.jpg',\n",
       " 'Assignement no8.ipynb',\n",
       " 'university_records.csv',\n",
       " 'Assignment-20.ipynb',\n",
       " 'Assignment-10.ipynb',\n",
       " 'Assignment-16.ipynb',\n",
       " 'Assignment-19.ipynb',\n",
       " 'books.db',\n",
       " '.ipynb_checkpoints',\n",
       " 'Assignment-15.ipynb',\n",
       " 'today.txt',\n",
       " 'Assignment-17.ipynb',\n",
       " 'Assignment-9.ipynb',\n",
       " 'Assignment-14.ipynb',\n",
       " 'Assignment-11.ipynb',\n",
       " 'Assignment-7.ipynb',\n",
       " 'Assignment-18.ipynb',\n",
       " 'books.csv',\n",
       " 'application_log.txt',\n",
       " 'pic2.jpg']"
      ]
     },
     "execution_count": 6,
     "metadata": {},
     "output_type": "execute_result"
    }
   ],
   "source": [
    "import os \n",
    "os.listdir()"
   ]
  },
  {
   "cell_type": "markdown",
   "id": "38c14227-f380-4d5b-b3da-bede293de3c9",
   "metadata": {},
   "source": [
    "6. Use multiprocessing to create three separate processes. Make each one wait a random number of seconds between one and five, print the current time, and then exit."
   ]
  },
  {
   "cell_type": "code",
   "execution_count": 8,
   "id": "1442cc38-ff2e-4e28-9dbc-4f105c7c1dbb",
   "metadata": {},
   "outputs": [
    {
     "name": "stdout",
     "output_type": "stream",
     "text": [
      "Proc_one_Starttime -> 2023-05-13 14:15:03.223106\n",
      "Proc_two_Starttime -> 2023-05-13 14:15:03.254783\n",
      "Proc_two_Starttime -> 2023-05-13 14:15:03.262144\n",
      "Proc_one_Endtime -> 2023-05-13 14:15:05.257689\n",
      "Proc_two_Endtime -> 2023-05-13 14:15:07.269408\n",
      "Proc_two_Endtime -> 2023-05-13 14:15:08.261827\n"
     ]
    }
   ],
   "source": [
    "import multiprocessing\n",
    "import time \n",
    "import random\n",
    "import datetime\n",
    "\n",
    "def procOne():\n",
    "    print(f'Proc_one_Starttime -> {datetime.datetime.now()}')\n",
    "    time.sleep(random.randint(1,5))\n",
    "    print(f'Proc_one_Endtime -> {datetime.datetime.now()}')\n",
    "    \n",
    "def procTwo():\n",
    "    print(f'Proc_two_Starttime -> {datetime.datetime.now()}')\n",
    "    time.sleep(random.randint(1,5))\n",
    "    print(f'Proc_two_Endtime -> {datetime.datetime.now()}')\n",
    "\n",
    "def procThree():\n",
    "    print(f'Proc_two_Starttime -> {datetime.datetime.now()}')\n",
    "    time.sleep(random.randint(1,5))\n",
    "    print(f'Proc_two_Endtime -> {datetime.datetime.now()}')\n",
    "    \n",
    "if __name__ == \"__main__\":    \n",
    "    p1 = multiprocessing.Process(target=procOne)\n",
    "    p2 = multiprocessing.Process(target=procTwo)\n",
    "    p3 = multiprocessing.Process(target=procThree)\n",
    "\n",
    "    p1.start()\n",
    "    p2.start()\n",
    "    p3.start()\n",
    "\n",
    "    p1.join()\n",
    "    p2.join()\n",
    "    p3.join()"
   ]
  },
  {
   "cell_type": "markdown",
   "id": "7fc47f38-caa9-4543-bc94-0e8cf1821e94",
   "metadata": {},
   "source": [
    "7. Create a date object of your day of birth."
   ]
  },
  {
   "cell_type": "code",
   "execution_count": 9,
   "id": "3f04cd49-ce04-4aa1-bf45-62b0acd3bde1",
   "metadata": {},
   "outputs": [
    {
     "name": "stdout",
     "output_type": "stream",
     "text": [
      "1997-04-22 00:00:00 <class 'datetime.datetime'>\n"
     ]
    }
   ],
   "source": [
    "from datetime import datetime\n",
    "my_dob = datetime.strptime('22/04/1997','%d/%m/%Y')\n",
    "print(my_dob, type(my_dob))"
   ]
  },
  {
   "cell_type": "markdown",
   "id": "800daada-c316-4ca8-950a-b48b06c82faa",
   "metadata": {},
   "source": [
    "8. What day of the week was your day of birth?"
   ]
  },
  {
   "cell_type": "code",
   "execution_count": 11,
   "id": "5fd44e95-7421-4a26-9ca7-5a3132c13ee2",
   "metadata": {},
   "outputs": [
    {
     "data": {
      "text/plain": [
       "'Sunday'"
      ]
     },
     "execution_count": 11,
     "metadata": {},
     "output_type": "execute_result"
    }
   ],
   "source": [
    "from datetime import datetime\n",
    "my_dob = datetime(1996,9,22)\n",
    "my_dob.strftime(\"%A\")"
   ]
  },
  {
   "cell_type": "code",
   "execution_count": null,
   "id": "8319786c-baa9-4133-b70c-23ee16cc4a27",
   "metadata": {},
   "outputs": [],
   "source": []
  }
 ],
 "metadata": {
  "kernelspec": {
   "display_name": "Python 3 (ipykernel)",
   "language": "python",
   "name": "python3"
  },
  "language_info": {
   "codemirror_mode": {
    "name": "ipython",
    "version": 3
   },
   "file_extension": ".py",
   "mimetype": "text/x-python",
   "name": "python",
   "nbconvert_exporter": "python",
   "pygments_lexer": "ipython3",
   "version": "3.10.6"
  }
 },
 "nbformat": 4,
 "nbformat_minor": 5
}
