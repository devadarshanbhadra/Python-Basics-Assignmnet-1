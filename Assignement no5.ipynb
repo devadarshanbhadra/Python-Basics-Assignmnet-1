{
 "cells": [
  {
   "cell_type": "markdown",
   "id": "9a9190fc-ec1e-4593-a3db-894c98737d0b",
   "metadata": {},
   "source": [
    "1. What does an empty dictionary&#39;s code look like?"
   ]
  },
  {
   "cell_type": "markdown",
   "id": "1fe20ed6-b611-4392-bf78-14c39faf93f9",
   "metadata": {},
   "source": [
    "An empty pair of curly braces {} is an empty dictionary"
   ]
  },
  {
   "cell_type": "code",
   "execution_count": 1,
   "id": "27747578-afc6-4277-a5b5-1f05999047be",
   "metadata": {},
   "outputs": [],
   "source": [
    "dict = {}"
   ]
  },
  {
   "cell_type": "code",
   "execution_count": 2,
   "id": "013a7e7d-ff3a-4fc1-9c88-5799900de94f",
   "metadata": {},
   "outputs": [
    {
     "data": {
      "text/plain": [
       "dict"
      ]
     },
     "execution_count": 2,
     "metadata": {},
     "output_type": "execute_result"
    }
   ],
   "source": [
    "type(dict)"
   ]
  },
  {
   "cell_type": "code",
   "execution_count": 3,
   "id": "a264232d-5a5e-4b01-8244-b78dc41f7c66",
   "metadata": {},
   "outputs": [],
   "source": [
    "list = []"
   ]
  },
  {
   "cell_type": "code",
   "execution_count": 5,
   "id": "9b559184-1c16-4dfa-ad02-a726d9d93f9b",
   "metadata": {},
   "outputs": [
    {
     "data": {
      "text/plain": [
       "list"
      ]
     },
     "execution_count": 5,
     "metadata": {},
     "output_type": "execute_result"
    }
   ],
   "source": [
    "type(list)"
   ]
  },
  {
   "cell_type": "markdown",
   "id": "f5499903-45e5-4450-b944-5b2bf8291c5a",
   "metadata": {},
   "source": [
    "2. What is the value of a dictionary value with the key 'foo' and the value 42?"
   ]
  },
  {
   "cell_type": "code",
   "execution_count": 8,
   "id": "a8915fbb-b8f8-48b4-a7e5-72d792b2c54c",
   "metadata": {},
   "outputs": [
    {
     "data": {
      "text/plain": [
       "{'foo': 42}"
      ]
     },
     "execution_count": 8,
     "metadata": {},
     "output_type": "execute_result"
    }
   ],
   "source": [
    "{'foo':42}"
   ]
  },
  {
   "cell_type": "markdown",
   "id": "10bdfe23-8b34-4672-8a4b-0c1e5f89fa58",
   "metadata": {},
   "source": [
    "3. What is the most significant distinction between a dictionary and a list?"
   ]
  },
  {
   "cell_type": "markdown",
   "id": "d3112e8b-6724-4c41-b0c9-53421c5d31fe",
   "metadata": {},
   "source": [
    "most significant diference:\n",
    "\n",
    "items in list are ordered\n",
    "items in dictionary are unordered.\n"
   ]
  },
  {
   "cell_type": "markdown",
   "id": "75334e70-8ec2-4388-b3b0-57e1d29fe7f7",
   "metadata": {},
   "source": [
    "4. What happens if you try to access spam['foo'] if spam is {bar': 100}?"
   ]
  },
  {
   "cell_type": "code",
   "execution_count": 14,
   "id": "d356abfb-1a78-4865-873c-af9162826d45",
   "metadata": {},
   "outputs": [
    {
     "ename": "KeyError",
     "evalue": "'foo'",
     "output_type": "error",
     "traceback": [
      "\u001b[0;31m---------------------------------------------------------------------------\u001b[0m",
      "\u001b[0;31mKeyError\u001b[0m                                  Traceback (most recent call last)",
      "Cell \u001b[0;32mIn [14], line 2\u001b[0m\n\u001b[1;32m      1\u001b[0m spam \u001b[38;5;241m=\u001b[39m {\u001b[38;5;124m'\u001b[39m\u001b[38;5;124mbar\u001b[39m\u001b[38;5;124m'\u001b[39m:\u001b[38;5;241m100\u001b[39m}\n\u001b[0;32m----> 2\u001b[0m \u001b[43mspam\u001b[49m\u001b[43m[\u001b[49m\u001b[38;5;124;43m'\u001b[39;49m\u001b[38;5;124;43mfoo\u001b[39;49m\u001b[38;5;124;43m'\u001b[39;49m\u001b[43m]\u001b[49m\n",
      "\u001b[0;31mKeyError\u001b[0m: 'foo'"
     ]
    }
   ],
   "source": [
    "spam = {'bar':100}\n",
    "spam['foo']           #error ofkeyword is showed"
   ]
  },
  {
   "cell_type": "markdown",
   "id": "4ff2bf46-2d70-432b-85eb-468915148289",
   "metadata": {},
   "source": [
    "5. If a dictionary is stored in spam, what is the difference between the expressions 'cat' in spam and\n",
    "'cat' in spam.keys()?"
   ]
  },
  {
   "cell_type": "code",
   "execution_count": 16,
   "id": "b98b0be9-0aaa-4ae9-8857-b5bae3187ebb",
   "metadata": {},
   "outputs": [],
   "source": [
    "spam = {\"cat\" : 100}"
   ]
  },
  {
   "cell_type": "code",
   "execution_count": 17,
   "id": "e8115771-73b7-48c1-b623-219ecc2ba071",
   "metadata": {},
   "outputs": [
    {
     "data": {
      "text/plain": [
       "True"
      ]
     },
     "execution_count": 17,
     "metadata": {},
     "output_type": "execute_result"
    }
   ],
   "source": [
    "\"cat\" in spam"
   ]
  },
  {
   "cell_type": "code",
   "execution_count": 18,
   "id": "f28e47ec-e2c8-4923-80f3-96b6ce1e2aa8",
   "metadata": {},
   "outputs": [
    {
     "data": {
      "text/plain": [
       "True"
      ]
     },
     "execution_count": 18,
     "metadata": {},
     "output_type": "execute_result"
    }
   ],
   "source": [
    "\"cat\" in spam.keys()"
   ]
  },
  {
   "cell_type": "markdown",
   "id": "3d50c387-5b54-407e-973f-eea73cf956c3",
   "metadata": {},
   "source": [
    "6. If a dictionary is stored in spam, what is the difference between the expressions 'cat' in spam and\n",
    "'cat' in spam.values()?"
   ]
  },
  {
   "cell_type": "code",
   "execution_count": 19,
   "id": "80394bbd-ebd2-4787-a134-1ac09afa182b",
   "metadata": {},
   "outputs": [],
   "source": [
    "spam = {\"cat\":2}"
   ]
  },
  {
   "cell_type": "code",
   "execution_count": 22,
   "id": "7bdf37d0-a812-4004-a0e3-5ab2bfe17430",
   "metadata": {},
   "outputs": [
    {
     "data": {
      "text/plain": [
       "True"
      ]
     },
     "execution_count": 22,
     "metadata": {},
     "output_type": "execute_result"
    }
   ],
   "source": [
    "\"cat\" in spam"
   ]
  },
  {
   "cell_type": "code",
   "execution_count": 23,
   "id": "22bac3da-af68-4882-9d34-bf1a9bc3cceb",
   "metadata": {},
   "outputs": [
    {
     "data": {
      "text/plain": [
       "False"
      ]
     },
     "execution_count": 23,
     "metadata": {},
     "output_type": "execute_result"
    }
   ],
   "source": [
    "\"cat\" in spam.values()"
   ]
  },
  {
   "cell_type": "markdown",
   "id": "4ac826c4-922a-42d3-ae9c-e784d1cfcfe5",
   "metadata": {},
   "source": [
    "7. What is a shortcut for the following code?\n",
    "if color not in spam:\n",
    "spam['color'] = 'black'"
   ]
  },
  {
   "cell_type": "code",
   "execution_count": 24,
   "id": "7a53537e-a7f4-4fe1-8392-473264aeb32d",
   "metadata": {},
   "outputs": [
    {
     "data": {
      "text/plain": [
       "{'cat': 100, 'color': 'black'}"
      ]
     },
     "execution_count": 24,
     "metadata": {},
     "output_type": "execute_result"
    }
   ],
   "source": [
    "\n",
    "spam ={'cat':100}\n",
    "spam.setdefault('color','black')\n",
    "spam"
   ]
  },
  {
   "cell_type": "markdown",
   "id": "9b9c1ce3-faa0-441a-bfb3-9f0e17c5ae79",
   "metadata": {},
   "source": [
    "8. How do you 'pretty print' dictionary values using which module and function?"
   ]
  },
  {
   "cell_type": "code",
   "execution_count": 25,
   "id": "1530df63-d000-491f-a306-5123a202c795",
   "metadata": {},
   "outputs": [],
   "source": [
    "import pprint"
   ]
  },
  {
   "cell_type": "code",
   "execution_count": 27,
   "id": "4bb95763-4f82-463b-8254-c9da2f8abc16",
   "metadata": {},
   "outputs": [],
   "source": [
    "dct = [{'name':'bhadra','age':'25','country':'india'},\n",
    "      {'name':'kaushik','age':'25','country':'india'},\n",
    "      {'name':'shiva','age':'25','country':'india'},\n",
    "      ]"
   ]
  },
  {
   "cell_type": "code",
   "execution_count": 30,
   "id": "589edc69-d93f-4924-9379-80e7d387911c",
   "metadata": {},
   "outputs": [
    {
     "name": "stdout",
     "output_type": "stream",
     "text": [
      "[{'age': '25', 'country': 'india', 'name': 'bhadra'},\n",
      " {'age': '25', 'country': 'india', 'name': 'kaushik'},\n",
      " {'age': '25', 'country': 'india', 'name': 'shiva'}]\n"
     ]
    }
   ],
   "source": [
    "pprint.pprint(dct)    #printing with pprint()"
   ]
  },
  {
   "cell_type": "code",
   "execution_count": 36,
   "id": "007c6349-bedf-4feb-8bbf-a5d7078eae23",
   "metadata": {},
   "outputs": [
    {
     "name": "stdout",
     "output_type": "stream",
     "text": [
      "[{'name': 'bhadra', 'age': '25', 'country': 'india'}, {'name': 'kaushik', 'age': '25', 'country': 'india'}, {'name': 'shiva', 'age': '25', 'country': 'india'}]\n"
     ]
    }
   ],
   "source": [
    "print(dct)   #printing with print()"
   ]
  },
  {
   "cell_type": "code",
   "execution_count": null,
   "id": "031080be-8eda-45d3-9430-45d2699e40c9",
   "metadata": {},
   "outputs": [],
   "source": []
  }
 ],
 "metadata": {
  "kernelspec": {
   "display_name": "Python 3 (ipykernel)",
   "language": "python",
   "name": "python3"
  },
  "language_info": {
   "codemirror_mode": {
    "name": "ipython",
    "version": 3
   },
   "file_extension": ".py",
   "mimetype": "text/x-python",
   "name": "python",
   "nbconvert_exporter": "python",
   "pygments_lexer": "ipython3",
   "version": "3.10.6"
  }
 },
 "nbformat": 4,
 "nbformat_minor": 5
}
