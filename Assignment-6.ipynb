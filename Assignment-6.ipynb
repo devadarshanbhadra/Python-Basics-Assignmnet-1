{
 "cells": [
  {
   "cell_type": "markdown",
   "id": "2693f20c-f3fc-45a6-ada2-e3d7601702a2",
   "metadata": {},
   "source": [
    "1. What are escape characters, and how do you use them?"
   ]
  },
  {
   "cell_type": "markdown",
   "id": "fbe63cfd-7e88-4993-9864-299930cc03f1",
   "metadata": {},
   "source": [
    "Ans: Escape characters represent characters in string values that would otherwise be difficult or impossible to type into code. we can use the backslash character to escape a single character or symbol."
   ]
  },
  {
   "cell_type": "markdown",
   "id": "11626ce0-38c8-4c02-93aa-16775910cd05",
   "metadata": {},
   "source": [
    "2. What do the escape characters n and t stand for?"
   ]
  },
  {
   "cell_type": "markdown",
   "id": "8d8df4d7-a757-463e-ac48-cfdc3a09e49f",
   "metadata": {},
   "source": [
    "Ans: \\n is a newline, \\t is a tab"
   ]
  },
  {
   "cell_type": "markdown",
   "id": "721e38f4-cf62-4eb1-a880-7d20b27e6022",
   "metadata": {},
   "source": [
    "3. What is the way to include backslash characters in a string?"
   ]
  },
  {
   "cell_type": "markdown",
   "id": "26682557-69aa-433e-badc-7e686b50025b",
   "metadata": {},
   "source": [
    "Ans: The \\ escape character will represent the backslash character in a string"
   ]
  },
  {
   "cell_type": "markdown",
   "id": "28f67b31-8077-4449-a559-f8eb398980db",
   "metadata": {},
   "source": [
    "4. The string &quot;Howl&#39;s Moving Castle&quot; is a correct value. Why isn&#39;t the single quote character in the\n",
    "word Howl&#39;s not escaped a problem?"
   ]
  },
  {
   "cell_type": "markdown",
   "id": "4f3bdf39-b511-4209-9307-d006f1c0c14c",
   "metadata": {},
   "source": [
    "Ans: The string \"Howl's Moving Castle\" escaped the problem because it is wrapped inside double quotes. If its wrapped inside single quotes then we have to use escape character ' to show single quote in the final output 'Howl's Moving Castle' -> 'Howl's Moving Castle'"
   ]
  },
  {
   "cell_type": "markdown",
   "id": "796d4a30-db29-4456-811f-e0c0739667e5",
   "metadata": {},
   "source": [
    "5. How do you write a string of newlines if you don&#39;t want to use the n character?"
   ]
  },
  {
   "cell_type": "markdown",
   "id": "ec47d235-bb59-461c-85a1-e8b8ee207fde",
   "metadata": {},
   "source": [
    "Ans: Multiline string allow you to use newlines in string without the \\n escape character"
   ]
  },
  {
   "cell_type": "code",
   "execution_count": 3,
   "id": "2a487742-c9ca-49d5-b180-5b396f5938d2",
   "metadata": {},
   "outputs": [
    {
     "name": "stdout",
     "output_type": "stream",
     "text": [
      "iNeuron full stack\n",
      "Data Science Course\n"
     ]
    }
   ],
   "source": [
    "# Example:\n",
    "a = '''iNeuron full stack\n",
    "Data Science Course'''\n",
    "print(a)"
   ]
  },
  {
   "cell_type": "markdown",
   "id": "9bba3844-de8a-4860-a6b4-79f01737285a",
   "metadata": {},
   "source": [
    "6. What are the values of the given expressions?\n",
    "    1. &#39;Hello, world!&#39;[1]\n",
    "    2. &#39;Hello, world!&#39;[0:5]\n",
    "    3. &#39;Hello, world!&#39;[:5]\n",
    "    4. &#39;Hello, world!&#39;[3:]"
   ]
  },
  {
   "cell_type": "markdown",
   "id": "4cec9b1e-4d76-4a02-92d1-3936911caa05",
   "metadata": {},
   "source": [
    "Ans: The values of following expressions are:"
   ]
  },
  {
   "cell_type": "code",
   "execution_count": 5,
   "id": "ad1f44f7-40c7-463e-9150-cbddfb03f057",
   "metadata": {},
   "outputs": [
    {
     "data": {
      "text/plain": [
       "'e'"
      ]
     },
     "execution_count": 5,
     "metadata": {},
     "output_type": "execute_result"
    }
   ],
   "source": [
    "'Hello, world!'[1]"
   ]
  },
  {
   "cell_type": "code",
   "execution_count": 1,
   "id": "1fd0d677-6911-40e6-8eb2-7c8218a00483",
   "metadata": {},
   "outputs": [
    {
     "data": {
      "text/plain": [
       "'Hello'"
      ]
     },
     "execution_count": 1,
     "metadata": {},
     "output_type": "execute_result"
    }
   ],
   "source": [
    "'Hello, world!'[0:5]"
   ]
  },
  {
   "cell_type": "code",
   "execution_count": 2,
   "id": "e4896983-8f04-44ee-a688-600fd4612481",
   "metadata": {},
   "outputs": [
    {
     "data": {
      "text/plain": [
       "'Hello'"
      ]
     },
     "execution_count": 2,
     "metadata": {},
     "output_type": "execute_result"
    }
   ],
   "source": [
    "'Hello, world!'[:5]"
   ]
  },
  {
   "cell_type": "code",
   "execution_count": 3,
   "id": "858f8bac-8069-4039-ab64-813f7ab51f43",
   "metadata": {},
   "outputs": [
    {
     "data": {
      "text/plain": [
       "'lo, world!'"
      ]
     },
     "execution_count": 3,
     "metadata": {},
     "output_type": "execute_result"
    }
   ],
   "source": [
    "'Hello, world!'[3:]"
   ]
  },
  {
   "cell_type": "markdown",
   "id": "1ff0437f-21dd-4cc7-8cd2-1c0d21ee42e3",
   "metadata": {},
   "source": [
    "7. What are the values of the following expressions?\n",
    "   1. &#39;Hello&#39;.upper()\n",
    "   2. &#39;Hello&#39;.upper().isupper()\n",
    "   3. &#39;Hello&#39;.upper().lower()"
   ]
  },
  {
   "cell_type": "markdown",
   "id": "00a6ae84-5e45-4ef7-8a36-3e5036177303",
   "metadata": {},
   "source": [
    "Ans: The values of following expressions are:"
   ]
  },
  {
   "cell_type": "code",
   "execution_count": 4,
   "id": "7aecc978-dfd0-4a86-b580-c4ef3a967235",
   "metadata": {},
   "outputs": [
    {
     "data": {
      "text/plain": [
       "'HELLO'"
      ]
     },
     "execution_count": 4,
     "metadata": {},
     "output_type": "execute_result"
    }
   ],
   "source": [
    "'Hello'.upper()"
   ]
  },
  {
   "cell_type": "code",
   "execution_count": 5,
   "id": "6ed3fb75-ee1e-4bfc-aeca-bb663d1766ae",
   "metadata": {},
   "outputs": [
    {
     "data": {
      "text/plain": [
       "True"
      ]
     },
     "execution_count": 5,
     "metadata": {},
     "output_type": "execute_result"
    }
   ],
   "source": [
    "'Hello'.upper().isupper()"
   ]
  },
  {
   "cell_type": "code",
   "execution_count": 7,
   "id": "e7aba39a-e8fa-4490-a2f7-1650d04be06e",
   "metadata": {},
   "outputs": [
    {
     "data": {
      "text/plain": [
       "'hello'"
      ]
     },
     "execution_count": 7,
     "metadata": {},
     "output_type": "execute_result"
    }
   ],
   "source": [
    "'Hello'.upper().lower()"
   ]
  },
  {
   "cell_type": "markdown",
   "id": "4dae16d1-3381-460f-8309-2003328bf0e7",
   "metadata": {},
   "source": [
    "8. What are the values of the following expressions?\n",
    "   1. &#39;Remember, remember, the fifth of July.&#39;.split()\n",
    "   2. &#39;-&#39;.join(&#39;There can only one.&#39;.split())"
   ]
  },
  {
   "cell_type": "markdown",
   "id": "73a75800-9eba-4603-9dee-5538c04a40a7",
   "metadata": {},
   "source": [
    "Ans: The values for the given expressions are:"
   ]
  },
  {
   "cell_type": "markdown",
   "id": "c702b947-0bfc-4245-94f5-000f4f1867e9",
   "metadata": {},
   "source": [
    "'Remember, remember, the fifth of July.'.split()'-'.join('There can only one.'.split())\n",
    "\n",
    "Ans: The values for the given expressions are:\n",
    "\n",
    "'Remember, remember, the fifith of July.'.split() ->\n",
    "\n",
    "['Remember,', 'remember,', 'the', 'fifith', 'of', 'July.'] '-'.join('There can only one'.split()) -> 'There-can-only-one'"
   ]
  },
  {
   "cell_type": "markdown",
   "id": "72373984-932d-42be-9741-3e3ec2ebe482",
   "metadata": {},
   "source": [
    "9. What are the methods for right-justifying, left-justifying, and centering a string?"
   ]
  },
  {
   "cell_type": "code",
   "execution_count": null,
   "id": "dc65680c-aa64-46d3-8563-1796407b493c",
   "metadata": {},
   "outputs": [],
   "source": []
  }
 ],
 "metadata": {
  "kernelspec": {
   "display_name": "Python 3 (ipykernel)",
   "language": "python",
   "name": "python3"
  },
  "language_info": {
   "codemirror_mode": {
    "name": "ipython",
    "version": 3
   },
   "file_extension": ".py",
   "mimetype": "text/x-python",
   "name": "python",
   "nbconvert_exporter": "python",
   "pygments_lexer": "ipython3",
   "version": "3.10.6"
  }
 },
 "nbformat": 4,
 "nbformat_minor": 5
}
