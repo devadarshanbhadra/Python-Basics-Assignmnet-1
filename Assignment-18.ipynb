{
 "cells": [
  {
   "cell_type": "markdown",
   "id": "2827de6f-a43e-4534-9ce8-8fd5439c6d46",
   "metadata": {},
   "source": [
    "1. Create a zoo.py file first. Define the hours() function, which prints the string &#39;Open 9-5 daily&#39;.\n",
    "Then, use the interactive interpreter to import the zoo module and call its hours() function."
   ]
  },
  {
   "cell_type": "code",
   "execution_count": 13,
   "id": "4a5b7ef3-4e17-4853-a676-8585cee208df",
   "metadata": {},
   "outputs": [
    {
     "name": "stdout",
     "output_type": "stream",
     "text": [
      "/bin/bash: line 1: type: zoo.py: not found\n"
     ]
    }
   ],
   "source": [
    "!type zoo.py"
   ]
  },
  {
   "cell_type": "code",
   "execution_count": 9,
   "id": "2c5a553c-c7de-4265-91c2-b2de780c45fc",
   "metadata": {},
   "outputs": [],
   "source": [
    "def hours():\n",
    "    print(\"open -5 daily\")"
   ]
  },
  {
   "cell_type": "code",
   "execution_count": null,
   "id": "fdf017fa-4a9f-425f-891b-fc5fbd2b0936",
   "metadata": {},
   "outputs": [],
   "source": [
    "import zoo\n",
    "zoo.hours()"
   ]
  },
  {
   "cell_type": "markdown",
   "id": "b413e1ab-0141-40aa-908e-d2c769d64c2b",
   "metadata": {},
   "source": [
    "###### Open 9-5 daily"
   ]
  },
  {
   "cell_type": "markdown",
   "id": "73035e44-9412-4294-9af3-0da7bc52db05",
   "metadata": {},
   "source": [
    "2. In the interactive interpreter, import the zoo module as menagerie and call its hours() function."
   ]
  },
  {
   "cell_type": "code",
   "execution_count": null,
   "id": "ed59ae3f-c9f8-411a-ae8e-541506f00586",
   "metadata": {},
   "outputs": [],
   "source": [
    "import zoo as menagerie\n",
    "menagerie.hours()"
   ]
  },
  {
   "cell_type": "markdown",
   "id": "b9f30e9c-549f-4459-bb17-8133bb6f6616",
   "metadata": {},
   "source": [
    "###### Open 9-5 daily"
   ]
  },
  {
   "cell_type": "markdown",
   "id": "b2485c7a-4f20-48db-8967-1fd854cd9729",
   "metadata": {},
   "source": [
    "3. Using the interpreter, explicitly import and call the hours() function from zoo."
   ]
  },
  {
   "cell_type": "code",
   "execution_count": null,
   "id": "84224be0-7b9d-4c9b-ac01-f17c6ab9a87a",
   "metadata": {},
   "outputs": [],
   "source": [
    "from zoo import hours\n",
    "hours()"
   ]
  },
  {
   "cell_type": "markdown",
   "id": "ce453030-2b40-4869-b10e-c81ca00efd93",
   "metadata": {},
   "source": [
    "###### Open 9-5 daily"
   ]
  },
  {
   "cell_type": "markdown",
   "id": "8174ece4-d02d-4cf1-ae4e-736bb5def558",
   "metadata": {},
   "source": [
    "4. Import the hours() function as info and call it."
   ]
  },
  {
   "cell_type": "code",
   "execution_count": null,
   "id": "552b7654-054f-4aa4-b83d-be8a666db950",
   "metadata": {},
   "outputs": [],
   "source": [
    "from zoo import hours as info\n",
    "info()"
   ]
  },
  {
   "cell_type": "markdown",
   "id": "9fd9f72a-afd1-4341-a4bb-57c08fc7a137",
   "metadata": {},
   "source": [
    "Open 9-5 daily"
   ]
  },
  {
   "cell_type": "markdown",
   "id": "2ff86247-8bd7-473f-a4e6-0f8bae4b112d",
   "metadata": {},
   "source": [
    "5. Create a plain dictionary with the key-value pairs 'a': 1, 'b': 2, and 'c': 3, and print it out."
   ]
  },
  {
   "cell_type": "code",
   "execution_count": 17,
   "id": "e445b2df-b304-4579-8f0e-305b40571f88",
   "metadata": {},
   "outputs": [
    {
     "name": "stdout",
     "output_type": "stream",
     "text": [
      "{'a': '1', 'b': '2', 'c': '3'}\n"
     ]
    }
   ],
   "source": [
    "plain_dictionary = {'a':'1','b':'2','c':'3'}\n",
    "print(plain_dictionary)"
   ]
  },
  {
   "cell_type": "markdown",
   "id": "bfbc3e78-91f8-4647-96a3-ab21134a39e1",
   "metadata": {},
   "source": [
    "6.Make an OrderedDict called fancy from the same pairs listed in 5 and print it. Did it print in the same order as plain?"
   ]
  },
  {
   "cell_type": "code",
   "execution_count": 22,
   "id": "32e0b36c-502d-4fef-a11a-2d3a74c625eb",
   "metadata": {},
   "outputs": [
    {
     "name": "stdout",
     "output_type": "stream",
     "text": [
      "plain_dict -> {'a': '1', 'b': '2', 'c': '3'}\n",
      "fancy -> OrderedDict([('a', '1'), ('b', '2'), ('c', '3')])\n"
     ]
    }
   ],
   "source": [
    "from collections import OrderedDict\n",
    "fancy = OrderedDict(plain_dictionary)\n",
    "print(f'plain_dict -> {plain_dictionary}')\n",
    "print(f'fancy -> {fancy}')"
   ]
  },
  {
   "cell_type": "markdown",
   "id": "2ba753cd-3828-4696-81f3-7464bdb5e7a7",
   "metadata": {},
   "source": [
    "7. Make a default dictionary called dict_of_lists and pass it the argument list. Make the list dict_of_lists['a'] and append the value 'something for a' to it in one assignment. Print dict_of_lists['a']."
   ]
  },
  {
   "cell_type": "code",
   "execution_count": null,
   "id": "dd6ee464-acf0-4dfd-9f85-854289ebc713",
   "metadata": {},
   "outputs": [],
   "source": []
  }
 ],
 "metadata": {
  "kernelspec": {
   "display_name": "Python 3 (ipykernel)",
   "language": "python",
   "name": "python3"
  },
  "language_info": {
   "codemirror_mode": {
    "name": "ipython",
    "version": 3
   },
   "file_extension": ".py",
   "mimetype": "text/x-python",
   "name": "python",
   "nbconvert_exporter": "python",
   "pygments_lexer": "ipython3",
   "version": "3.10.6"
  }
 },
 "nbformat": 4,
 "nbformat_minor": 5
}
